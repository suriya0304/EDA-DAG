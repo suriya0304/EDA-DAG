{
 "cells": [
  {
   "cell_type": "code",
   "execution_count": 5,
   "id": "ce772ad2",
   "metadata": {},
   "outputs": [],
   "source": [
    "import datetime as dt\n",
    "from datetime import timedelta\n",
    "\n",
    "from airflow import DAG\n",
    "from airflow.operators.bash import BashOperator\n",
    "from airflow.operators.python import PythonOperator\n",
    "\n",
    "import pandas as pd"
   ]
  },
  {
   "cell_type": "code",
   "execution_count": 7,
   "id": "ac77be50",
   "metadata": {},
   "outputs": [],
   "source": [
    "default_arg={\n",
    "    'owner':'suriya',\n",
    "    'start_date':dt.datetime(2023,4,14),\n",
    "    'retries':1,\n",
    "    'retry_delay':dt.timedelta(minutes=5)\n",
    "}"
   ]
  },
  {
   "cell_type": "code",
   "execution_count": null,
   "id": "b3d33f92",
   "metadata": {},
   "outputs": [],
   "source": [
    "def clean_scooter():\n",
    "    df=pd.read_csv('scooter.csv')\n",
    "    df.drop(columns=['region_id'],inplace=True)\n",
    "    df.columns=[x.lower() for x in df.columns]\n",
    "    df['started_at']=pd.to_datetime(df['started_at'],format=\"%m/%d/%Y %H:%M\")\n",
    "    df.to_csv('cleanscooter.csv')"
   ]
  },
  {
   "cell_type": "code",
   "execution_count": 8,
   "id": "0ebe7b0c",
   "metadata": {},
   "outputs": [],
   "source": [
    "def filter_data():\n",
    "    df=pd.read_csv('cleanscooter.csv')\n",
    "    from_=df['started_at']>'2019-05-23'\n",
    "    to=df['started_at']<'2019-06-03'\n",
    "    startend=pd.DataFrame(df[to & from_])\n",
    "    startend.to_csv('may23-june3.csv')"
   ]
  },
  {
   "cell_type": "code",
   "execution_count": null,
   "id": "529004ed",
   "metadata": {},
   "outputs": [],
   "source": [
    "with DAG('CleanData',default_args=default_args,schedule_interval=timedelta(minutes=5)) as dag:\n",
    "    cleandata=PythonOperator(task_id='cleandata',python_callable=clean_scooter)\n",
    "    selectdat=PythonOperator(task_id='filter data',python_callable=filter_data)\n",
    "    copyfile=BashOperator(task_id='copy file',bash_command='/home/suriya/pract/Python/DATA/data_engineer/Data Engineering with Python/airflow_EDA/may23-june3.csv /home/suriya/Desktop')\n",
    "cleandata>>selectdat>>copyfile"
   ]
  }
 ],
 "metadata": {
  "kernelspec": {
   "display_name": "venv_data_eng",
   "language": "python",
   "name": "venv_data_eng"
  },
  "language_info": {
   "codemirror_mode": {
    "name": "ipython",
    "version": 3
   },
   "file_extension": ".py",
   "mimetype": "text/x-python",
   "name": "python",
   "nbconvert_exporter": "python",
   "pygments_lexer": "ipython3",
   "version": "3.8.10"
  }
 },
 "nbformat": 4,
 "nbformat_minor": 5
}
